{
 "cells": [
  {
   "cell_type": "code",
   "execution_count": 3,
   "id": "initial_id",
   "metadata": {
    "collapsed": true,
    "ExecuteTime": {
     "end_time": "2024-03-06T05:58:29.813947Z",
     "start_time": "2024-03-06T05:58:29.607861Z"
    }
   },
   "outputs": [],
   "source": [
    "from gpt import GPTClient\n",
    "from instructions import gqa, imgedit"
   ]
  },
  {
   "cell_type": "code",
   "execution_count": 4,
   "outputs": [],
   "source": [
    "gpt = GPTClient()"
   ],
   "metadata": {
    "collapsed": false,
    "ExecuteTime": {
     "end_time": "2024-03-06T05:59:43.807639Z",
     "start_time": "2024-03-06T05:58:47.255120Z"
    }
   },
   "id": "fd15eb45e0f12090"
  },
  {
   "cell_type": "code",
   "execution_count": 9,
   "outputs": [],
   "source": [
    "gqa_factory = gqa.get_prompt_factory(method='random', num_prompts=8)\n",
    "imgedit_factory = imgedit.get_prompt_factory(method='random', num_prompts=8)"
   ],
   "metadata": {
    "collapsed": false,
    "ExecuteTime": {
     "end_time": "2024-03-06T06:02:54.603061Z",
     "start_time": "2024-03-06T06:02:54.601995Z"
    }
   },
   "id": "f544efcd5d46256f"
  },
  {
   "cell_type": "code",
   "execution_count": 10,
   "outputs": [
    {
     "name": "stdout",
     "output_type": "stream",
     "text": [
      "BOX0=LOC(image=IMAGE, object='train')\n",
      "BOX1=LOC(image=IMAGE, object='fence')\n",
      "ANSWER0=COUNT(box=BOX0)\n",
      "ANSWER1=COUNT(box=BOX1)\n",
      "ANSWER2=EVAL(expr=\"'yes' if {ANSWER0} > 0 and {ANSWER1} > 0 else 'no'\")\n",
      "FINAL_RESULT=RESULT(var=ANSWER2)\n"
     ]
    }
   ],
   "source": [
    "response = gpt.ask(gqa_factory(question='Are there trains and fences in this scene?'))\n",
    "print(response)"
   ],
   "metadata": {
    "collapsed": false,
    "ExecuteTime": {
     "end_time": "2024-03-06T06:04:30.150337Z",
     "start_time": "2024-03-06T06:03:09.343808Z"
    }
   },
   "id": "7fac02f6ff036cfe"
  },
  {
   "cell_type": "code",
   "execution_count": 11,
   "outputs": [
    {
     "name": "stdout",
     "output_type": "stream",
     "text": [
      "OBJ0=SEG(image=IMAGE)\n",
      "OBJ1=SELECT(image=IMAGE,object=OBJ0,query='flower pot',category=None)\n",
      "IMAGE0=REPLACE(image=IMAGE,object=OBJ1,prompt='bottle of water')\n",
      "FINAL_RESULT=RESULT(var=IMAGE0)\n"
     ]
    }
   ],
   "source": [
    "response = gpt.ask(imgedit_factory(instruction='Replace the flower pot with a bottle of water'))\n",
    "print(response)"
   ],
   "metadata": {
    "collapsed": false,
    "ExecuteTime": {
     "end_time": "2024-03-06T06:05:47.841823Z",
     "start_time": "2024-03-06T06:05:10.449569Z"
    }
   },
   "id": "d7a92788c409ae9a"
  },
  {
   "cell_type": "code",
   "execution_count": null,
   "outputs": [],
   "source": [],
   "metadata": {
    "collapsed": false
   },
   "id": "f4648e9c74794e76"
  }
 ],
 "metadata": {
  "kernelspec": {
   "display_name": "Python 3",
   "language": "python",
   "name": "python3"
  },
  "language_info": {
   "codemirror_mode": {
    "name": "ipython",
    "version": 2
   },
   "file_extension": ".py",
   "mimetype": "text/x-python",
   "name": "python",
   "nbconvert_exporter": "python",
   "pygments_lexer": "ipython2",
   "version": "2.7.6"
  }
 },
 "nbformat": 4,
 "nbformat_minor": 5
}
